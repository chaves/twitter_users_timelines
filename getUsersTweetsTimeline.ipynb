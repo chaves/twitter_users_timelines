{
 "cells": [
  {
   "cell_type": "code",
   "execution_count": null,
   "metadata": {},
   "outputs": [],
   "source": [
    "import pymongo\n",
    "import tweepy\n",
    "import time\n",
    "import yaml\n",
    "import gspread\n",
    "import dateutil.parser as parser\n",
    "\n",
    "from datetime import datetime\n",
    "from oauth2client.service_account import ServiceAccountCredentials"
   ]
  },
  {
   "cell_type": "markdown",
   "metadata": {},
   "source": [
    "### Notes from the Twitter's API\n",
    "https://developer.twitter.com/en/docs/tweets/timelines/api-reference/get-statuses-user_timeline\n",
    "\n",
    "This method can only return up to **3,200 of a user's most recent Tweets**.\n",
    "Native retweets of other statuses by the user is included in this total, regardless of whether include_rts is set to false when requesting this resource.\n",
    "\n",
    "- **Max number of tweets by request : 200**\n",
    "- **Requests / 15-min window (app auth): 1500**"
   ]
  },
  {
   "cell_type": "code",
   "execution_count": null,
   "metadata": {},
   "outputs": [],
   "source": [
    "# General config\n",
    "NB_ACCOUNTS_TO_CHECK = 2\n",
    "\n",
    "# GSheet config\n",
    "GSHEET_ACCOUNTS_COLUMN_NB = 6\n",
    "GSHEET_ACCOUNTS_COLUMN_NAME = 'Compte Twitter'\n",
    "GSHEET_CONTROL_COLUMN_NAME = 'Last check'\n",
    "GSHEET_CREDENTIALS_FILE = './private/covid19-b40a0237c297.json'\n",
    "GSHEET_NAME = 'twitter_accounts'\n",
    "\n",
    "# Witter API and tweepy config\n",
    "SLEEP_TIME = 900 # 900 seconds = 15 minutes\n",
    "COUNT_MAX = 200 # max tweets by request\n",
    "INCLUDE_RETWEETS = False\n",
    "API_CREDENTIALS = yaml.safe_load(open(\"./private/config.yml\"))\n",
    "\n",
    "# MongoDB config config\n",
    "MONGO_BD_NAME = 'covid19'"
   ]
  },
  {
   "cell_type": "code",
   "execution_count": null,
   "metadata": {},
   "outputs": [],
   "source": [
    "# Initialize MongoDb database\n",
    "client = pymongo.MongoClient()\n",
    "db = client[MONGO_BD_NAME]\n",
    "tweets_db = db.tweets"
   ]
  },
  {
   "cell_type": "code",
   "execution_count": null,
   "metadata": {},
   "outputs": [],
   "source": [
    "# Get Google sheet object\n",
    "def get_sheet_object():\n",
    "    scope = ['https://spreadsheets.google.com/feeds', 'https://www.googleapis.com/auth/drive']\n",
    "    creds = ServiceAccountCredentials.from_json_keyfile_name(GSHEET_CREDENTIALS_FILE, scope)\n",
    "    gspread_client = gspread.authorize(creds)\n",
    "    return gspread_client.open(GSHEET_NAME).sheet1"
   ]
  },
  {
   "cell_type": "code",
   "execution_count": null,
   "metadata": {},
   "outputs": [],
   "source": [
    "sheet = get_sheet_object()"
   ]
  },
  {
   "cell_type": "code",
   "execution_count": null,
   "metadata": {},
   "outputs": [],
   "source": [
    "def tweepy_api_init():\n",
    "    auth = tweepy.OAuthHandler(API_CREDENTIALS['consumer_key'], API_CREDENTIALS['consumer_secret'])\n",
    "    auth.set_access_token(API_CREDENTIALS['access_token'], API_CREDENTIALS['access_token_secret'])\n",
    "    return tweepy.API(auth)"
   ]
  },
  {
   "cell_type": "code",
   "execution_count": null,
   "metadata": {},
   "outputs": [],
   "source": [
    "def get_accounts_from_google_sheets(sheet):\n",
    "    \n",
    "    data = sheet.get_all_records() \n",
    "\n",
    "    # index + 2 is the row index in google sheets\n",
    "    # don't take empty cells -> len(tweet[GSHEET_ACCOUNTS_COLUMN_NAME]) > 0\n",
    "    accounts = [(index + 2, tweet[GSHEET_ACCOUNTS_COLUMN_NAME], tweet[GSHEET_CONTROL_COLUMN_NAME]) \n",
    "            for index, tweet in enumerate(data) if len(tweet[GSHEET_ACCOUNTS_COLUMN_NAME]) > 0]\n",
    "    \n",
    "    # returns a list of tuples such as : \n",
    "    # (7, '@USTreasury', '2020-04-20 16:17:32') if the date exists -> update mode\n",
    "    # (2, '@realDonaldTrump', '') if the date doesn't exist -> insert mode \n",
    "    \n",
    "    today = datetime.now().strftime('%Y-%m-%d')\n",
    "    \n",
    "    # select if the control date is empty or older than today\n",
    "    accounts = [account for account in accounts if len(account[2]) == 0 or account[2].split()[0] < today]\n",
    "    \n",
    "    # return up to NB_ACCOUNTS_TO_CHECK\n",
    "    \n",
    "    if len(accounts) >= NB_ACCOUNTS_TO_CHECK:\n",
    "        return accounts[:NB_ACCOUNTS_TO_CHECK]\n",
    "    else:\n",
    "        return accounts"
   ]
  },
  {
   "cell_type": "code",
   "execution_count": null,
   "metadata": {},
   "outputs": [],
   "source": [
    "# get_accounts_from_google_sheets(sheet)"
   ]
  },
  {
   "cell_type": "code",
   "execution_count": null,
   "metadata": {},
   "outputs": [],
   "source": [
    "def max_tweets_limit_notice(screen_name, error):\n",
    "    print('Limit reached for ' + screen_name)\n",
    "    print(error.message) ### just to check the exact nature of the error\n",
    "    print('Wait 15 minutes ...')\n",
    "    time.sleep(SLEEP_TIME)\n",
    "    print('New request for ' + screen_name)"
   ]
  },
  {
   "cell_type": "code",
   "execution_count": null,
   "metadata": {},
   "outputs": [],
   "source": [
    "def get_oldest_id(screen_name):\n",
    "    last_two = tweets_db.find({'screen_name': screen_name}).sort('date_iso', pymongo.ASCENDING).limit(2)\n",
    "    try:\n",
    "        last_minus_one = last_two[1]['id']\n",
    "        return last_minus_one\n",
    "    except:\n",
    "        return False"
   ]
  },
  {
   "cell_type": "code",
   "execution_count": null,
   "metadata": {},
   "outputs": [],
   "source": [
    "def get_newest_id(screen_name):\n",
    "    last_two = tweets_db.find({'screen_name': screen_name}).sort('date_iso', pymongo.DESCENDING).limit(2)\n",
    "    try:\n",
    "        last_minus_one = last_two[1]['id']\n",
    "        return last_minus_one\n",
    "    except:\n",
    "        return False"
   ]
  },
  {
   "cell_type": "code",
   "execution_count": null,
   "metadata": {},
   "outputs": [],
   "source": [
    "def get_initial_tweets(screen_name):\n",
    "    api = tweepy_api_init()\n",
    "    all_tweets = []\n",
    "    \n",
    "    print('Get initial request with most recent tweets for ' + screen_name)\n",
    "        \n",
    "    try:\n",
    "    \n",
    "        new_tweets = api.user_timeline(screen_name=screen_name, \n",
    "                                       count=COUNT_MAX, \n",
    "                                       include_rts=INCLUDE_RETWEETS)\n",
    "\n",
    "    except tweepy.TweepError as error:\n",
    "        \n",
    "        max_tweets_limit_notice(screen_name, error)\n",
    "        \n",
    "        print('Try again to get the initial tweets list for ' + screen_name)\n",
    "        \n",
    "        new_tweets = api.user_timeline(screen_name = screen_name, \n",
    "                                       count=COUNT_MAX,\n",
    "                                       include_rts=INCLUDE_RETWEETS)\n",
    "    \n",
    "    print(\"{} tweets scraped\".format((len(new_tweets))))\n",
    "        \n",
    "    return new_tweets"
   ]
  },
  {
   "cell_type": "code",
   "execution_count": null,
   "metadata": {},
   "outputs": [],
   "source": [
    "def get_oldest_tweets(screen_name):     \n",
    "\n",
    "    api = tweepy_api_init()\n",
    "    all_tweets = []\n",
    "    new_tweets = ['ok'] # to initialize : len(new_tweets) should be > 0\n",
    "    \n",
    "    oldest_id = get_oldest_id(screen_name) \n",
    "    \n",
    "    # continue the procedure gets new tweets\n",
    "    while len(new_tweets) > 0:      \n",
    "        \n",
    "        try:\n",
    "            \n",
    "            print(\"Oldest tweet {}\".format(oldest_id))\n",
    "            \n",
    "            new_tweets = api.user_timeline(screen_name=screen_name,\n",
    "                                           count=COUNT_MAX,\n",
    "                                           include_rts=INCLUDE_RETWEETS,\n",
    "                                           max_id=oldest_id) # IMPORTANT\n",
    "            \n",
    "        except tweepy.TweepError as error:\n",
    "            \n",
    "            max_tweets_limit_notice(screen_name, error)\n",
    "            \n",
    "            print(\"Oldest tweet {}\".format(oldest_id))\n",
    "            \n",
    "            # we try again after 15 minutes\n",
    "            new_tweets = api.user_timeline(screen_name=screen_name,\n",
    "                                           count=COUNT_MAX,\n",
    "                                           include_rts=INCLUDE_RETWEETS,\n",
    "                                           max_id=oldest_id) # IMPORTANT\n",
    "            continue\n",
    "        \n",
    "        all_tweets.extend(new_tweets)\n",
    "        \n",
    "        oldest_id = all_tweets[-1].id - 1\n",
    "        \n",
    "        print(\"{} tweets scraped\".format((len(all_tweets))))\n",
    "\n",
    "    return all_tweets"
   ]
  },
  {
   "cell_type": "code",
   "execution_count": null,
   "metadata": {},
   "outputs": [],
   "source": [
    "def get_newest_tweets(screen_name):     \n",
    "\n",
    "    api = tweepy_api_init()\n",
    "    all_tweets = []\n",
    "    new_tweets = ['ok'] # to initialize : len(new_tweets) should be > 0\n",
    "    \n",
    "    newest_id = get_newest_id(screen_name) \n",
    "    \n",
    "    # continue the procedure gets new tweets\n",
    "    while len(new_tweets) > 0:      \n",
    "        \n",
    "        try:\n",
    "            \n",
    "            print(\"Newest tweet {}\".format(newest_id))\n",
    "            \n",
    "            new_tweets = api.user_timeline(screen_name=screen_name,\n",
    "                                           count=COUNT_MAX,\n",
    "                                           include_rts=INCLUDE_RETWEETS,\n",
    "                                           since_id=newest_id) # IMPORTANT\n",
    "            \n",
    "        except tweepy.TweepError as error:\n",
    "            \n",
    "            max_tweets_limit_notice(screen_name, error)\n",
    "            \n",
    "            print(\"Newest tweet {}\".format(newest_id))\n",
    "            \n",
    "            # we try again after 15 minutes\n",
    "            new_tweets = api.user_timeline(screen_name=screen_name,\n",
    "                                           count=COUNT_MAX,\n",
    "                                           include_rts=INCLUDE_RETWEETS,\n",
    "                                           since_id=newest_id) # IMPORTANT\n",
    "            continue\n",
    "        \n",
    "        all_tweets.extend(new_tweets)\n",
    "        \n",
    "        newest_id = all_tweets[-1].id - 1\n",
    "        \n",
    "        print(\"{} tweets scraped\".format((len(all_tweets))))\n",
    "\n",
    "    return all_tweets"
   ]
  },
  {
   "cell_type": "code",
   "execution_count": null,
   "metadata": {},
   "outputs": [],
   "source": [
    "def insert_tweets_to_mongo(tweepy_tweets, screen_name):\n",
    "    for tweet in tweepy_tweets:\n",
    "        tweet_json = tweet._json\n",
    "        date = parser.parse(tweet_json['created_at'])\n",
    "        tweet_json['date_iso'] = date.isoformat().split('T')[0]\n",
    "        tweet_json['screen_name'] = screen_name\n",
    "        tweet_json['scraped_date'] = datetime.now().strftime('%Y-%m-%d %H:%M:%S'),\n",
    "        try:\n",
    "            tweets_db.insert_one(tweet_json)\n",
    "        except pymongo.errors.DuplicateKeyError:\n",
    "            print(\"Tweet n°{} already in the database\".format(tweet.id))"
   ]
  },
  {
   "cell_type": "code",
   "execution_count": null,
   "metadata": {},
   "outputs": [],
   "source": [
    "def get_tweets(accounts):\n",
    "    \n",
    "    for account in accounts:\n",
    "        \n",
    "        index, screen_name, checked_date = account\n",
    "        \n",
    "        if len(checked_date) == 0: # no date in google sheet -> insert mode\n",
    "\n",
    "            # get initial tweets\n",
    "            new_tweepy_tweets = get_initial_tweets(screen_name)\n",
    "            insert_tweets_to_mongo(new_tweepy_tweets, screen_name)\n",
    "\n",
    "            # get oldest tweets\n",
    "            old_tweepy_tweets = get_oldest_tweets(screen_name)\n",
    "            insert_tweets_to_mongo(old_tweepy_tweets, screen_name)\n",
    "\n",
    "            # update control sheet\n",
    "            sheet.update_cell(index, GSHEET_ACCOUNTS_COLUMN_NB, datetime.now().strftime('%Y-%m-%d %H:%M:%S'))\n",
    "\n",
    "        else:  # date exists in google sheet -> update mode\n",
    "\n",
    "            # get newest tweets\n",
    "            new_tweepy_tweets = get_newest_tweets(screen_name)\n",
    "            insert_tweets_to_mongo(new_tweepy_tweets, screen_name)\n",
    "\n",
    "            # update control sheet\n",
    "            sheet.update_cell(index, GSHEET_ACCOUNTS_COLUMN_NB, datetime.now().strftime('%Y-%m-%d %H:%M:%S'))"
   ]
  },
  {
   "cell_type": "code",
   "execution_count": null,
   "metadata": {},
   "outputs": [],
   "source": [
    "accounts = get_accounts_from_google_sheets(sheet)"
   ]
  },
  {
   "cell_type": "code",
   "execution_count": null,
   "metadata": {},
   "outputs": [],
   "source": [
    "get_tweets(accounts)"
   ]
  },
  {
   "cell_type": "code",
   "execution_count": null,
   "outputs": [],
   "source": [],
   "metadata": {
    "collapsed": false,
    "pycharm": {
     "name": "#%%\n"
    }
   }
  },
  {
   "cell_type": "code",
   "execution_count": null,
   "metadata": {},
   "outputs": [],
   "source": []
  },
  {
   "cell_type": "code",
   "execution_count": null,
   "metadata": {},
   "outputs": [],
   "source": []
  },
  {
   "cell_type": "code",
   "execution_count": null,
   "metadata": {},
   "outputs": [],
   "source": [
    "'''\n",
    "#Vérifications\n",
    "import pandas as pd\n",
    "pd.set_option('display.max_rows', 500)\n",
    "pd.set_option('display.max_columns', 500)\n",
    "pd.set_option('display.width', 1000)\n",
    "data_tweets = tweets_db.find({'screen_name':'@stevenmnuchin1'})\n",
    "# data_tweets = tweets_db.find({})\n",
    "df = pd.DataFrame.from_records(data_tweets)\n",
    "df.head()\n",
    "'''"
   ]
  },
  {
   "cell_type": "code",
   "execution_count": null,
   "metadata": {},
   "outputs": [],
   "source": [
    "# df.date_iso.max()\n",
    "# df.date_iso.min()"
   ]
  },
  {
   "cell_type": "code",
   "execution_count": null,
   "metadata": {},
   "outputs": [],
   "source": [
    "# len(df)"
   ]
  },
  {
   "cell_type": "code",
   "execution_count": null,
   "metadata": {},
   "outputs": [],
   "source": []
  }
 ],
 "metadata": {
  "kernelspec": {
   "display_name": "Python [conda env:root] *",
   "language": "python",
   "name": "conda-root-py"
  },
  "language_info": {
   "codemirror_mode": {
    "name": "ipython",
    "version": 3
   },
   "file_extension": ".py",
   "mimetype": "text/x-python",
   "name": "python",
   "nbconvert_exporter": "python",
   "pygments_lexer": "ipython3",
   "version": "3.7.6"
  }
 },
 "nbformat": 4,
 "nbformat_minor": 4
}